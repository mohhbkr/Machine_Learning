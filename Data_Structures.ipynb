{
 "cells": [
  {
   "cell_type": "code",
   "execution_count": 18,
   "metadata": {},
   "outputs": [
    {
     "name": "stdout",
     "output_type": "stream",
     "text": [
      "The First indexed value of the ( h )\n",
      "This is the Length of the data\"hello\"  [5]\n",
      "Full string stored in data:  hello\n"
     ]
    }
   ],
   "source": [
    "# %d is used as a placeholder for numeric or decimal values. This line of code will \n",
    "#substitute %s with Alice (str) and %d with 42. The %d and %s string formatting \n",
    "#\"commands\" are used to format strings. The %d is for numbers, and %s is for strings.\n",
    "\n",
    "# strings \n",
    "\n",
    "data = 'hello'\n",
    "print('The First indexed value of the (', data[0], \")\")\n",
    "print('This is the Length of the data\"hello\" ',[len(data)])\n",
    "print('Full string stored in data: ',data)"
   ]
  },
  {
   "cell_type": "code",
   "execution_count": 19,
   "metadata": {},
   "outputs": [
    {
     "name": "stdout",
     "output_type": "stream",
     "text": [
      "132.1\n",
      "10\n"
     ]
    }
   ],
   "source": [
    "'''Numbers'''\n",
    "value = 132.1\n",
    "print (value)\n",
    "value = 10 \n",
    "print (value)"
   ]
  },
  {
   "cell_type": "code",
   "execution_count": 24,
   "metadata": {},
   "outputs": [
    {
     "name": "stdout",
     "output_type": "stream",
     "text": [
      "True False\n"
     ]
    }
   ],
   "source": [
    "#Boolean\n",
    "a = True  \n",
    "b = False \n",
    "print(a, b)"
   ]
  },
  {
   "cell_type": "code",
   "execution_count": 25,
   "metadata": {},
   "outputs": [
    {
     "name": "stdout",
     "output_type": "stream",
     "text": [
      "1 2 3\n"
     ]
    }
   ],
   "source": [
    "#Multiple Assignments \n",
    "a, b, c = 1, 2, 3 \n",
    "print (a, b, c)"
   ]
  },
  {
   "cell_type": "code",
   "execution_count": 28,
   "metadata": {},
   "outputs": [
    {
     "name": "stdout",
     "output_type": "stream",
     "text": [
      "None\n"
     ]
    }
   ],
   "source": [
    "#No Value \n",
    "a = None\n",
    "print(a)"
   ]
  },
  {
   "cell_type": "code",
   "execution_count": 38,
   "metadata": {},
   "outputs": [
    {
     "name": "stdout",
     "output_type": "stream",
     "text": [
      "that was fast\n"
     ]
    }
   ],
   "source": [
    "\n",
    "#Flow Control \n",
    "#There are three main types of flow control \n",
    "#IF-THEN-ELSE Conditions \n",
    "\n",
    "value = 99 \n",
    "if value >=99: \n",
    "    print ('that was fast')\n",
    "elif value > 200:\n",
    "    print ('that was too fast')\n",
    "else: \n",
    "    print ('That is safe!')"
   ]
  },
  {
   "cell_type": "code",
   "execution_count": 90,
   "metadata": {},
   "outputs": [
    {
     "name": "stdout",
     "output_type": "stream",
     "text": [
      " (i) is still not == 10! 0\n",
      " (i) is still not == 10! 1\n",
      " (i) is still not == 10! 2\n",
      " (i) is still not == 10! 3\n",
      " (i) is still not == 10! 4\n",
      " (i) is still not == 10! 5\n",
      " (i) is still not == 10! 6\n",
      " (i) is still not == 10! 7\n",
      " (i) is still not == 10! 8\n",
      " (i) is still not == 10! 9\n"
     ]
    }
   ],
   "source": [
    "# For-Loop Example \n",
    "for i in range(10): \n",
    "    if i == 10:\n",
    "        for i in range(i): \n",
    "            print ('(i) is == to 10! :)')\n",
    "        break;\n",
    "        #print(i, end ='') \n",
    "        \n",
    "    else: \n",
    "        print (\" (i) is still not == 10!\", i)\n",
    "        "
   ]
  },
  {
   "cell_type": "code",
   "execution_count": 99,
   "metadata": {},
   "outputs": [
    {
     "name": "stdout",
     "output_type": "stream",
     "text": [
      "0123456789"
     ]
    }
   ],
   "source": [
    "#While-Loop Example\n",
    "i =0 \n",
    "while i < 10: \n",
    "    print(i, end='') \n",
    "    i +=1 "
   ]
  },
  {
   "cell_type": "code",
   "execution_count": 116,
   "metadata": {},
   "outputs": [
    {
     "name": "stdout",
     "output_type": "stream",
     "text": [
      "(1, 2, 3) Tuple data structure Example\n",
      "Zeroth Value: 1 List data structure\n",
      "List length: 6\n",
      "Values stored in the lsit are: %d\n",
      "1   2   3   4   5   6   "
     ]
    },
    {
     "data": {
      "text/plain": [
       "''"
      ]
     },
     "execution_count": 116,
     "metadata": {},
     "output_type": "execute_result"
    }
   ],
   "source": [
    "# Data Structures  \n",
    "'''Tuple Example'''\n",
    "t = (1, 2, 3)\n",
    "print(t, \"Tuple data structure Example\") \n",
    "'''List Example'''\n",
    "l =[1,2,3,4,5]\n",
    "print (\"Zeroth Value: %d\" % l[0], 'List data structure')\n",
    "l.append(6)\n",
    "print ('List length: %d' %len(l))\n",
    "print ('Values stored in the lsit are: %d')\n",
    "for values in l: \n",
    "    print (values, end='   ')\n",
    "\n",
    "\n",
    "''''''"
   ]
  },
  {
   "cell_type": "code",
   "execution_count": 162,
   "metadata": {
    "scrolled": true
   },
   "outputs": [
    {
     "name": "stdout",
     "output_type": "stream",
     "text": [
      "A value: 1\n",
      "A value: 11\n",
      "Keys: dict_keys(['a', 'b', 'C', 'D'])\n",
      "Values: dict_values([11, 2, 3, 4])\n",
      "a 11\n",
      "b 2\n",
      "C 3\n",
      "D 4\n"
     ]
    }
   ],
   "source": [
    "#Dictionary Data Structure Example \n",
    "d ={'a': 1, 'b': 2, 'C': 3, 'D':4}\n",
    "print ('A value: %d' % d['a'])\n",
    "d ['a']= 11 \n",
    "print ('A value: %d' % d['a'])\n",
    "print ('Keys: %s' %d.keys())\n",
    "print(\"Values: %s\" % d.values())\n",
    "\n",
    "#Print Keys and Values stored in a Dictionary \n",
    "\n",
    "for k in d.keys():\n",
    "   print (k, d[k])\n",
    "   \n"
   ]
  },
  {
   "cell_type": "code",
   "execution_count": 164,
   "metadata": {},
   "outputs": [
    {
     "name": "stdout",
     "output_type": "stream",
     "text": [
      "44\n"
     ]
    }
   ],
   "source": [
    "# Functions\n",
    "#sum function \n",
    "def MySum (x, y): \n",
    "    return x + y \n",
    "\n",
    "#test sum function: \n",
    "print (MySum(1, 43))"
   ]
  }
 ],
 "metadata": {
  "kernelspec": {
   "display_name": "Python 3",
   "language": "python",
   "name": "python3"
  },
  "language_info": {
   "codemirror_mode": {
    "name": "ipython",
    "version": 3
   },
   "file_extension": ".py",
   "mimetype": "text/x-python",
   "name": "python",
   "nbconvert_exporter": "python",
   "pygments_lexer": "ipython3",
   "version": "3.8.0"
  }
 },
 "nbformat": 4,
 "nbformat_minor": 4
}
