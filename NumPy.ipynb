{
 "cells": [
  {
   "cell_type": "code",
   "execution_count": 3,
   "metadata": {},
   "outputs": [],
   "source": [
    "#NumPy provides the foundation data \n",
    "#structures and operations for SciPy. These are arrays (ndarrays) \n",
    "#that are efficient to define and manipulate.\n",
    "#Create Array\n",
    "#define an Array "
   ]
  },
  {
   "cell_type": "code",
   "execution_count": 4,
   "metadata": {},
   "outputs": [
    {
     "name": "stdout",
     "output_type": "stream",
     "text": [
      "[1 2 3 4 5 6 7 8 9]\n",
      "(9,)\n"
     ]
    }
   ],
   "source": [
    "import numpy\n",
    "mylist= [1,2,3,4,5,6,7,8,9]\n",
    "myArray = numpy.array(mylist)\n",
    "print(myArray)\n",
    "print(myArray.shape)"
   ]
  },
  {
   "cell_type": "code",
   "execution_count": 11,
   "metadata": {},
   "outputs": [
    {
     "name": "stdout",
     "output_type": "stream",
     "text": [
      "[[1 2 3]\n",
      " [3 4 5]]\n",
      "First row: [1 2 3]\n",
      "Last row: [1 2 3]\n",
      "First row: [3 4 5]\n",
      "Specific row and col: 3\n",
      "Whole col: [3 5]\n"
     ]
    }
   ],
   "source": [
    "#Access Data\n",
    "#Array notation and ranges can be used to efficiently access data in a NumPy array.\n",
    "import numpy \n",
    "mylist = [[1,2,3], [3,4,5]]\n",
    "myarray = numpy.array(mylist)\n",
    "print(myarray)\n",
    "print(\"First row: %s\" % myarray[0])\n",
    "print(\"Last row: %s\" % myarray[0])\n",
    "print(\"First row: %s\" % myarray[-1])\n",
    "print(\"Specific row and col: %s\" % myarray[0, 2])\n",
    "print(\"Whole col: %s\" % myarray[:,2])"
   ]
  },
  {
   "cell_type": "code",
   "execution_count": 12,
   "metadata": {},
   "outputs": [
    {
     "name": "stdout",
     "output_type": "stream",
     "text": [
      "Addition: [5 5 5]\n",
      "Addition: [6 6 6]\n"
     ]
    }
   ],
   "source": [
    "#Arithmetic - NumPy arrays can be used directly in arithmetic.\n",
    "import numpy\n",
    "\n",
    "myarray1 =numpy.array([2,2,2])\n",
    "myarray2 =numpy.array([3,3,3])\n",
    "print(\"Addition: %s\" %(myarray1 + myarray2))\n",
    "print(\"Addition: %s\" %(myarray1 * myarray2))\n"
   ]
  },
  {
   "cell_type": "code",
   "execution_count": null,
   "metadata": {},
   "outputs": [],
   "source": [
    "#Matplotlib Crash Course\n",
    "#Matplotlib can be used for creating plots and charts.\n",
    "'''The library is generally used as follows:\n",
    "1. Call a plotting function with some data (e.g. plot()).\n",
    "2. Call many functions to setup the properties of the plot (e.g. labels and colors).\n",
    "3. Make the plot visible (e.g. show()).\n",
    "'''"
   ]
  },
  {
   "cell_type": "code",
   "execution_count": 22,
   "metadata": {},
   "outputs": [
    {
     "data": {
      "image/png": "[encoded data removed]",
      "text/plain": [
       "<Figure size 432x288 with 1 Axes>"
      ]
     },
     "metadata": {
      "needs_background": "light"
     },
     "output_type": "display_data"
    }
   ],
   "source": [
    "#basic line plot \n",
    "\n",
    "import matplotlib.pyplot as plt \n",
    "import numpy as np \n",
    "\n",
    "myarray = numpy.array([1,2,3,4,5,6,7])\n",
    "plt.plot(myarray)\n",
    "plt.xlabel('Some x Axis')\n",
    "plt.ylabel('Some y axis')\n",
    "\n",
    "plt.show()"
   ]
  },
  {
   "cell_type": "code",
   "execution_count": 25,
   "metadata": {},
   "outputs": [
    {
     "data": {
      "image/png": "[encoded data removed]",
      "text/plain": [
       "<Figure size 432x288 with 1 Axes>"
      ]
     },
     "metadata": {
      "needs_background": "light"
     },
     "output_type": "display_data"
    }
   ],
   "source": [
    "#Basic Scatter plot \n",
    "import matplotlib.pyplot as plt \n",
    "import numpy\n",
    "\n",
    "x = numpy.array([1,2,3])\n",
    "y = numpy.array([2,4,6])\n",
    "\n",
    "plt.scatter(x,y)\n",
    "plt.xlabel('Some x axis')\n",
    "plt.ylabel('Some y axis')\n",
    "\n",
    "plt.show() \n",
    "\n",
    "#Below is a simple example of creating a scatter plot from two-dimensional data."
   ]
  },
  {
   "cell_type": "code",
   "execution_count": null,
   "metadata": {},
   "outputs": [],
   "source": []
  }
 ],
 "metadata": {
  "kernelspec": {
   "display_name": "Python 3",
   "language": "python",
   "name": "python3"
  },
  "language_info": {
   "codemirror_mode": {
    "name": "ipython",
    "version": 3
   },
   "file_extension": ".py",
   "mimetype": "text/x-python",
   "name": "python",
   "nbconvert_exporter": "python",
   "pygments_lexer": "ipython3",
   "version": "3.8.0"
  }
 },
 "nbformat": 4,
 "nbformat_minor": 4
}
