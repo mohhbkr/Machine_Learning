{
 "cells": [
  {
   "cell_type": "code",
   "execution_count": 3,
   "metadata": {},
   "outputs": [
    {
     "name": "stdout",
     "output_type": "stream",
     "text": [
      "a    1\n",
      "b    2\n",
      "c    3\n",
      "dtype: int32\n"
     ]
    }
   ],
   "source": [
    "#Series - A series is a one-dimensional array where the rows and columns can be labeled. \n",
    "import numpy\n",
    "import pandas \n",
    "myarray = numpy.array([1,2,3])\n",
    "rownames =['a','b','c']\n",
    "myseries = pandas.Series(myarray, index=rownames)\n",
    "\n",
    "print(myseries)"
   ]
  },
  {
   "cell_type": "code",
   "execution_count": 4,
   "metadata": {},
   "outputs": [
    {
     "name": "stdout",
     "output_type": "stream",
     "text": [
      "1\n",
      "1\n"
     ]
    }
   ],
   "source": [
    "print (myseries[0])\n",
    "print (myseries['a'])"
   ]
  },
  {
   "cell_type": "code",
   "execution_count": 7,
   "metadata": {},
   "outputs": [
    {
     "name": "stdout",
     "output_type": "stream",
     "text": [
      "   one  two  three\n",
      "a    1    2      3\n",
      "b    4    5      6\n"
     ]
    }
   ],
   "source": [
    "#DataFrame - A data frame is a multi-dimensional array where the rows and the columns can be labeled.\n",
    "import numpy as np \n",
    "import pandas as pd \n",
    "myarray = numpy.array([[1,2,3], [4,5,6]])\n",
    "rownames = ['a', 'b']\n",
    "colnames = ['one','two', 'three']\n",
    "mydataframe = pd.DataFrame(myarray, index=rownames,columns=colnames)\n",
    "\n",
    "print(mydataframe)"
   ]
  },
  {
   "cell_type": "code",
   "execution_count": 10,
   "metadata": {
    "scrolled": true
   },
   "outputs": [
    {
     "name": "stdout",
     "output_type": "stream",
     "text": [
      "one column: a    1\n",
      "b    4\n",
      "Name: one, dtype: int32\n",
      "one column: a    1\n",
      "b    4\n",
      "Name: one, dtype: int32\n"
     ]
    }
   ],
   "source": [
    "# Data can be index using column names.\n",
    "print (\"one column: %s\" %mydataframe['one'])\n",
    "print (\"one column: %s\" % mydataframe.one)"
   ]
  }
 ],
 "metadata": {
  "kernelspec": {
   "display_name": "Python 3",
   "language": "python",
   "name": "python3"
  },
  "language_info": {
   "codemirror_mode": {
    "name": "ipython",
    "version": 3
   },
   "file_extension": ".py",
   "mimetype": "text/x-python",
   "name": "python",
   "nbconvert_exporter": "python",
   "pygments_lexer": "ipython3",
   "version": "3.8.0"
  }
 },
 "nbformat": 4,
 "nbformat_minor": 4
}
